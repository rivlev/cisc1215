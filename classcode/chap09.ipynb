{
 "cells": [
  {
   "cell_type": "markdown",
   "id": "1331faa1",
   "metadata": {
    "id": "1331faa1"
   },
   "source": [
    "You can order print and ebook versions of *Think Python 3e* from\n",
    "[Bookshop.org](https://bookshop.org/a/98697/9781098155438) and\n",
    "[Amazon](https://www.amazon.com/_/dp/1098155432?smid=ATVPDKIKX0DER&_encoding=UTF8&tag=oreilly20-20&_encoding=UTF8&tag=greenteapre01-20&linkCode=ur2&linkId=e2a529f94920295d27ec8a06e757dc7c&camp=1789&creative=9325)."
   ]
  },
  {
   "cell_type": "code",
   "execution_count": 1,
   "id": "bde1c3f9",
   "metadata": {
    "id": "bde1c3f9",
    "tags": []
   },
   "outputs": [],
   "source": [
    "from os.path import basename, exists\n",
    "\n",
    "def download(url):\n",
    "    filename = basename(url)\n",
    "    if not exists(filename):\n",
    "        from urllib.request import urlretrieve\n",
    "\n",
    "        local, _ = urlretrieve(url, filename)\n",
    "        print(\"Downloaded \" + str(local))\n",
    "    return filename\n",
    "\n",
    "download('https://github.com/AllenDowney/ThinkPython/raw/v3/thinkpython.py');\n",
    "download('https://github.com/AllenDowney/ThinkPython/raw/v3/diagram.py');\n",
    "\n",
    "import thinkpython"
   ]
  },
  {
   "cell_type": "markdown",
   "id": "3c25ca7e",
   "metadata": {
    "id": "3c25ca7e"
   },
   "source": [
    "# Lists\n",
    "\n",
    "This chapter presents one of Python's most useful built-in types, lists.\n",
    "You will also learn more about objects and what can happen when multiple variables refer to the same object.\n",
    "\n",
    "In the exercises at the end of the chapter, we'll make a word list and use it to search for special words like palindromes and anagrams."
   ]
  },
  {
   "cell_type": "markdown",
   "id": "4d32b3e2",
   "metadata": {
    "id": "4d32b3e2"
   },
   "source": [
    "## A list is a sequence\n",
    "\n",
    "Like a string, a **list** is a sequence of values. In a string, the\n",
    "values are characters; in a list, they can be any type.\n",
    "The values in a list are called **elements**.\n",
    "\n",
    "There are several ways to create a new list; the simplest is to enclose the elements in square brackets (`[` and `]`).\n",
    "For example, here is a list of two integers."
   ]
  },
  {
   "cell_type": "code",
   "execution_count": 10,
   "id": "a16a119b",
   "metadata": {
    "id": "a16a119b"
   },
   "outputs": [],
   "source": [
    "numbers = [42, 123]"
   ]
  },
  {
   "cell_type": "markdown",
   "id": "b5d6112c",
   "metadata": {
    "id": "b5d6112c"
   },
   "source": [
    "And here's a list of three strings."
   ]
  },
  {
   "cell_type": "code",
   "execution_count": 11,
   "id": "ac7a4a0b",
   "metadata": {
    "id": "ac7a4a0b"
   },
   "outputs": [],
   "source": [
    "cheeses = ['Cheddar', 'Edam', 'Gouda']"
   ]
  },
  {
   "cell_type": "markdown",
   "id": "dda58c67",
   "metadata": {
    "id": "dda58c67"
   },
   "source": [
    "The elements of a list don't have to be the same type.\n",
    "The following list contains a string, a float, an integer, and even another list."
   ]
  },
  {
   "cell_type": "code",
   "execution_count": 12,
   "id": "18fb0e21",
   "metadata": {
    "id": "18fb0e21"
   },
   "outputs": [],
   "source": [
    "t = ['spam', 2.0, 5, [10, 20]]"
   ]
  },
  {
   "cell_type": "code",
   "execution_count": 15,
   "id": "d83b6ae9",
   "metadata": {},
   "outputs": [
    {
     "data": {
      "text/plain": [
       "4"
      ]
     },
     "execution_count": 15,
     "metadata": {},
     "output_type": "execute_result"
    }
   ],
   "source": [
    "len(t)"
   ]
  },
  {
   "cell_type": "markdown",
   "id": "147fa217",
   "metadata": {
    "id": "147fa217"
   },
   "source": [
    "A list within another list is **nested**.\n",
    "\n",
    "A list that contains no elements is called an empty list; you can create\n",
    "one with empty brackets, `[]`."
   ]
  },
  {
   "cell_type": "code",
   "execution_count": 13,
   "id": "0ff58916",
   "metadata": {
    "id": "0ff58916"
   },
   "outputs": [],
   "source": [
    "empty = []"
   ]
  },
  {
   "cell_type": "markdown",
   "id": "f95381bc",
   "metadata": {
    "id": "f95381bc"
   },
   "source": [
    "The `len` function returns the length of a list."
   ]
  },
  {
   "cell_type": "code",
   "execution_count": 14,
   "id": "f3153f36",
   "metadata": {
    "id": "f3153f36"
   },
   "outputs": [
    {
     "data": {
      "text/plain": [
       "3"
      ]
     },
     "execution_count": 14,
     "metadata": {},
     "output_type": "execute_result"
    }
   ],
   "source": [
    "len(cheeses)"
   ]
  },
  {
   "cell_type": "markdown",
   "id": "371403a3",
   "metadata": {
    "id": "371403a3"
   },
   "source": [
    "The length of an empty list is `0`."
   ]
  },
  {
   "cell_type": "code",
   "execution_count": 7,
   "id": "58727d35",
   "metadata": {
    "id": "58727d35",
    "tags": []
   },
   "outputs": [
    {
     "data": {
      "text/plain": [
       "0"
      ]
     },
     "execution_count": 7,
     "metadata": {},
     "output_type": "execute_result"
    }
   ],
   "source": [
    "len(empty)"
   ]
  },
  {
   "cell_type": "markdown",
   "id": "d3589a5d",
   "metadata": {
    "id": "d3589a5d"
   },
   "source": [
    "The following figure shows the state diagram for `cheeses`, `numbers` and `empty`."
   ]
  },
  {
   "cell_type": "code",
   "execution_count": 8,
   "id": "25582cad",
   "metadata": {
    "id": "25582cad",
    "tags": []
   },
   "outputs": [],
   "source": [
    "from diagram import make_list, Binding, Value\n",
    "\n",
    "list1 = make_list(cheeses, dy=-0.3, offsetx=0.17)\n",
    "binding1 = Binding(Value('cheeses'), list1)\n",
    "\n",
    "list2 = make_list(numbers, dy=-0.3, offsetx=0.17)\n",
    "binding2 = Binding(Value('numbers'), list2)\n",
    "\n",
    "list3 = make_list(empty, dy=-0.3, offsetx=0.1)\n",
    "binding3 = Binding(Value('empty'), list3)"
   ]
  },
  {
   "cell_type": "code",
   "execution_count": 9,
   "id": "925c7d67",
   "metadata": {
    "id": "925c7d67",
    "tags": []
   },
   "outputs": [
    {
     "data": {
      "image/png": "[encoded data removed]",
      "text/plain": [
       "<Figure size 366x158 with 1 Axes>"
      ]
     },
     "metadata": {},
     "output_type": "display_data"
    }
   ],
   "source": [
    "from diagram import diagram, adjust, Bbox\n",
    "\n",
    "width, height, x, y = [3.66, 1.58, 0.45, 1.2]\n",
    "ax = diagram(width, height)\n",
    "bbox1 = binding1.draw(ax, x, y)\n",
    "bbox2 = binding2.draw(ax, x+2.25, y)\n",
    "bbox3 = binding3.draw(ax, x+2.25, y-1.0)\n",
    "\n",
    "bbox = Bbox.union([bbox1, bbox2, bbox3])\n",
    "#adjust(x, y, bbox)"
   ]
  },
  {
   "cell_type": "markdown",
   "id": "503f25d8",
   "metadata": {
    "id": "503f25d8"
   },
   "source": [
    "Lists are represented by boxes with the word \"list\" outside and the numbered elements of the list inside."
   ]
  },
  {
   "cell_type": "markdown",
   "id": "e0b8ff01",
   "metadata": {
    "id": "e0b8ff01"
   },
   "source": [
    "## Lists are mutable\n",
    "\n",
    "To read an element of a list, we can use the bracket operator.\n",
    "The index of the first element is `0`."
   ]
  },
  {
   "cell_type": "code",
   "execution_count": 16,
   "id": "9deb85a3",
   "metadata": {
    "id": "9deb85a3"
   },
   "outputs": [
    {
     "data": {
      "text/plain": [
       "'Cheddar'"
      ]
     },
     "execution_count": 16,
     "metadata": {},
     "output_type": "execute_result"
    }
   ],
   "source": [
    "cheeses[0]"
   ]
  },
  {
   "cell_type": "code",
   "execution_count": 17,
   "id": "506f5aa2",
   "metadata": {},
   "outputs": [
    {
     "data": {
      "text/plain": [
       "'C'"
      ]
     },
     "execution_count": 17,
     "metadata": {},
     "output_type": "execute_result"
    }
   ],
   "source": [
    "cheeses[0][0]"
   ]
  },
  {
   "cell_type": "markdown",
   "id": "9747e951",
   "metadata": {
    "id": "9747e951"
   },
   "source": [
    "Unlike strings, lists are mutable. When the bracket operator appears on\n",
    "the left side of an assignment, it identifies the element of the list\n",
    "that will be assigned."
   ]
  },
  {
   "cell_type": "code",
   "execution_count": 18,
   "id": "6fdf3e44",
   "metadata": {},
   "outputs": [
    {
     "data": {
      "text/plain": [
       "[42, 123]"
      ]
     },
     "execution_count": 18,
     "metadata": {},
     "output_type": "execute_result"
    }
   ],
   "source": [
    "numbers"
   ]
  },
  {
   "cell_type": "code",
   "execution_count": 19,
   "id": "98ec5d9c",
   "metadata": {
    "id": "98ec5d9c"
   },
   "outputs": [
    {
     "data": {
      "text/plain": [
       "[42, 17]"
      ]
     },
     "execution_count": 19,
     "metadata": {},
     "output_type": "execute_result"
    }
   ],
   "source": [
    "numbers[1] = 17\n",
    "numbers"
   ]
  },
  {
   "cell_type": "markdown",
   "id": "5097a517",
   "metadata": {
    "id": "5097a517"
   },
   "source": [
    "The second element of `numbers`, which used to be `123`, is now `17`.\n",
    "\n",
    "List indices work the same way as string indices:\n",
    "\n",
    "-   Any integer expression can be used as an index.\n",
    "\n",
    "-   If you try to read or write an element that does not exist, you get\n",
    "    an `IndexError`.\n",
    "\n",
    "-   If an index has a negative value, it counts backward from the end of\n",
    "    the list.\n",
    "\n",
    "The `in` operator works on lists -- it checks whether a given element appears anywhere in the list."
   ]
  },
  {
   "cell_type": "code",
   "execution_count": 20,
   "id": "000aed26",
   "metadata": {
    "id": "000aed26"
   },
   "outputs": [
    {
     "data": {
      "text/plain": [
       "True"
      ]
     },
     "execution_count": 20,
     "metadata": {},
     "output_type": "execute_result"
    }
   ],
   "source": [
    "'Edam' in cheeses"
   ]
  },
  {
   "cell_type": "code",
   "execution_count": 21,
   "id": "bcb8929c",
   "metadata": {
    "id": "bcb8929c"
   },
   "outputs": [
    {
     "data": {
      "text/plain": [
       "False"
      ]
     },
     "execution_count": 21,
     "metadata": {},
     "output_type": "execute_result"
    }
   ],
   "source": [
    "'Wensleydale' in cheeses"
   ]
  },
  {
   "cell_type": "code",
   "execution_count": 22,
   "id": "dccb5c10",
   "metadata": {},
   "outputs": [
    {
     "data": {
      "text/plain": [
       "False"
      ]
     },
     "execution_count": 22,
     "metadata": {},
     "output_type": "execute_result"
    }
   ],
   "source": [
    "'dam' in cheeses"
   ]
  },
  {
   "cell_type": "markdown",
   "id": "89d01ebf",
   "metadata": {
    "id": "89d01ebf"
   },
   "source": [
    "Although a list can contain another list, the nested list still counts as a single element -- so in the following list, there are only four elements."
   ]
  },
  {
   "cell_type": "code",
   "execution_count": 23,
   "id": "5ad51a26",
   "metadata": {
    "id": "5ad51a26"
   },
   "outputs": [
    {
     "data": {
      "text/plain": [
       "4"
      ]
     },
     "execution_count": 23,
     "metadata": {},
     "output_type": "execute_result"
    }
   ],
   "source": [
    "t = ['spam', 2.0, 5, [10, 20]]\n",
    "len(t)"
   ]
  },
  {
   "cell_type": "markdown",
   "id": "4e0ea41d",
   "metadata": {
    "id": "4e0ea41d"
   },
   "source": [
    "And `10` is not considered to be an element of `t` because it is an element of a nested list, not `t`."
   ]
  },
  {
   "cell_type": "code",
   "execution_count": 24,
   "id": "156dbc10",
   "metadata": {
    "id": "156dbc10"
   },
   "outputs": [
    {
     "data": {
      "text/plain": [
       "False"
      ]
     },
     "execution_count": 24,
     "metadata": {},
     "output_type": "execute_result"
    }
   ],
   "source": [
    "10 in t"
   ]
  },
  {
   "cell_type": "markdown",
   "id": "1ee7a4d9",
   "metadata": {
    "id": "1ee7a4d9"
   },
   "source": [
    "## List slices\n",
    "\n",
    "The slice operator works on lists the same way it works on strings.\n",
    "The following example selects the second and third elements from a list of four letters."
   ]
  },
  {
   "cell_type": "code",
   "execution_count": 25,
   "id": "70b16371",
   "metadata": {
    "id": "70b16371"
   },
   "outputs": [
    {
     "data": {
      "text/plain": [
       "['b', 'c']"
      ]
     },
     "execution_count": 25,
     "metadata": {},
     "output_type": "execute_result"
    }
   ],
   "source": [
    "letters = ['a', 'b', 'c', 'd']\n",
    "letters[1:3]"
   ]
  },
  {
   "cell_type": "code",
   "execution_count": 29,
   "id": "db6df3ed",
   "metadata": {},
   "outputs": [
    {
     "data": {
      "text/plain": [
       "['a', 'e', 'f', 'c', 'd']"
      ]
     },
     "execution_count": 29,
     "metadata": {},
     "output_type": "execute_result"
    }
   ],
   "source": [
    "letters[1:2] = ['e', 'f']\n",
    "letters"
   ]
  },
  {
   "cell_type": "code",
   "execution_count": 30,
   "id": "d8ea5350",
   "metadata": {},
   "outputs": [
    {
     "data": {
      "text/plain": [
       "['a', 'e', 'f']"
      ]
     },
     "execution_count": 30,
     "metadata": {},
     "output_type": "execute_result"
    }
   ],
   "source": [
    "letters[3:] = []\n",
    "letters"
   ]
  },
  {
   "cell_type": "code",
   "execution_count": 31,
   "id": "98cbc079",
   "metadata": {},
   "outputs": [],
   "source": [
    "letters[3:] = ['b', 'c', 'd', 'z']"
   ]
  },
  {
   "cell_type": "code",
   "execution_count": 32,
   "id": "be9b95c0",
   "metadata": {},
   "outputs": [
    {
     "data": {
      "text/plain": [
       "['a', 'e', 'f', 'b', 'c', 'd', 'z']"
      ]
     },
     "execution_count": 32,
     "metadata": {},
     "output_type": "execute_result"
    }
   ],
   "source": [
    "letters"
   ]
  },
  {
   "cell_type": "markdown",
   "id": "bc59d952",
   "metadata": {
    "id": "bc59d952"
   },
   "source": [
    "If you omit the first index, the slice starts at the beginning."
   ]
  },
  {
   "cell_type": "code",
   "execution_count": 26,
   "id": "e67bab33",
   "metadata": {
    "id": "e67bab33"
   },
   "outputs": [
    {
     "data": {
      "text/plain": [
       "['a', 'b']"
      ]
     },
     "execution_count": 26,
     "metadata": {},
     "output_type": "execute_result"
    }
   ],
   "source": [
    "letters[:2]"
   ]
  },
  {
   "cell_type": "markdown",
   "id": "1aaaae86",
   "metadata": {
    "id": "1aaaae86"
   },
   "source": [
    "If you omit the second, the slice goes to the end."
   ]
  },
  {
   "cell_type": "code",
   "execution_count": 27,
   "id": "a310f506",
   "metadata": {
    "id": "a310f506"
   },
   "outputs": [
    {
     "data": {
      "text/plain": [
       "['c', 'd']"
      ]
     },
     "execution_count": 27,
     "metadata": {},
     "output_type": "execute_result"
    }
   ],
   "source": [
    "letters[2:]"
   ]
  },
  {
   "cell_type": "markdown",
   "id": "67ad02e8",
   "metadata": {
    "id": "67ad02e8"
   },
   "source": [
    "So if you omit both, the slice is a copy of the whole list."
   ]
  },
  {
   "cell_type": "code",
   "execution_count": 28,
   "id": "1385a75e",
   "metadata": {
    "id": "1385a75e"
   },
   "outputs": [
    {
     "data": {
      "text/plain": [
       "['a', 'b', 'c', 'd']"
      ]
     },
     "execution_count": 28,
     "metadata": {},
     "output_type": "execute_result"
    }
   ],
   "source": [
    "letters[:]"
   ]
  },
  {
   "cell_type": "markdown",
   "id": "9232c1ef",
   "metadata": {
    "id": "9232c1ef"
   },
   "source": [
    "Another way to copy a list is to use the `list` function."
   ]
  },
  {
   "cell_type": "code",
   "execution_count": 33,
   "id": "a0ca0135",
   "metadata": {
    "id": "a0ca0135"
   },
   "outputs": [
    {
     "data": {
      "text/plain": [
       "['a', 'e', 'f', 'b', 'c', 'd', 'z']"
      ]
     },
     "execution_count": 33,
     "metadata": {},
     "output_type": "execute_result"
    }
   ],
   "source": [
    "list(letters)"
   ]
  },
  {
   "cell_type": "markdown",
   "id": "50e4b182",
   "metadata": {
    "id": "50e4b182"
   },
   "source": [
    "Because `list` is the name of a built-in function, you should avoid using it as a variable name.\n"
   ]
  },
  {
   "cell_type": "code",
   "execution_count": 35,
   "id": "894d09ba",
   "metadata": {},
   "outputs": [
    {
     "data": {
      "text/plain": [
       "[1, 2, 3, 4, 5]"
      ]
     },
     "execution_count": 35,
     "metadata": {},
     "output_type": "execute_result"
    }
   ],
   "source": [
    "lst = [1, 2, 3, 4, 5]\n",
    "lst = list([1, 2, 3, 4, 5])\n",
    "lst"
   ]
  },
  {
   "cell_type": "markdown",
   "id": "1b057c0c",
   "metadata": {
    "id": "1b057c0c"
   },
   "source": [
    "## List operations\n",
    "\n",
    "The `+` operator concatenates lists."
   ]
  },
  {
   "cell_type": "code",
   "execution_count": 36,
   "id": "66804de0",
   "metadata": {
    "id": "66804de0"
   },
   "outputs": [
    {
     "data": {
      "text/plain": [
       "[1, 2, 3, 4]"
      ]
     },
     "execution_count": 36,
     "metadata": {},
     "output_type": "execute_result"
    }
   ],
   "source": [
    "t1 = [1, 2]\n",
    "t2 = [3, 4]\n",
    "t1 + t2"
   ]
  },
  {
   "cell_type": "code",
   "execution_count": 40,
   "id": "5cfdc121",
   "metadata": {},
   "outputs": [
    {
     "data": {
      "text/plain": [
       "[1, 2, 3]"
      ]
     },
     "execution_count": 40,
     "metadata": {},
     "output_type": "execute_result"
    }
   ],
   "source": [
    "t1[1:2] = [2, 3]\n",
    "t1"
   ]
  },
  {
   "cell_type": "code",
   "execution_count": 41,
   "id": "d9284824",
   "metadata": {},
   "outputs": [
    {
     "data": {
      "text/plain": [
       "[1, 2, 3, 3]"
      ]
     },
     "execution_count": 41,
     "metadata": {},
     "output_type": "execute_result"
    }
   ],
   "source": [
    "t1 + [3]"
   ]
  },
  {
   "cell_type": "code",
   "execution_count": 42,
   "id": "d9a2dea9",
   "metadata": {},
   "outputs": [
    {
     "data": {
      "text/plain": [
       "[1, 2, 3]"
      ]
     },
     "execution_count": 42,
     "metadata": {},
     "output_type": "execute_result"
    }
   ],
   "source": [
    "t1"
   ]
  },
  {
   "cell_type": "markdown",
   "id": "474a5c40",
   "metadata": {
    "id": "474a5c40"
   },
   "source": [
    "The `*` operator repeats a list a given number of times."
   ]
  },
  {
   "cell_type": "code",
   "execution_count": 43,
   "id": "96620f93",
   "metadata": {
    "id": "96620f93"
   },
   "outputs": [
    {
     "data": {
      "text/plain": [
       "['spam', 'spam', 'spam', 'spam']"
      ]
     },
     "execution_count": 43,
     "metadata": {},
     "output_type": "execute_result"
    }
   ],
   "source": [
    "['spam'] * 4"
   ]
  },
  {
   "cell_type": "code",
   "execution_count": 44,
   "id": "d0cfd488",
   "metadata": {},
   "outputs": [
    {
     "data": {
      "text/plain": [
       "['spam', 'hello', 'spam', 'hello', 'spam', 'hello', 'spam', 'hello']"
      ]
     },
     "execution_count": 44,
     "metadata": {},
     "output_type": "execute_result"
    }
   ],
   "source": [
    "['spam', 'hello'] * 4"
   ]
  },
  {
   "cell_type": "code",
   "execution_count": 45,
   "id": "745aee6a",
   "metadata": {},
   "outputs": [
    {
     "data": {
      "text/plain": [
       "[1, 2, 3, 1, 2, 3, 1, 2, 3, 1, 2, 3]"
      ]
     },
     "execution_count": 45,
     "metadata": {},
     "output_type": "execute_result"
    }
   ],
   "source": [
    "t1*4"
   ]
  },
  {
   "cell_type": "code",
   "execution_count": 46,
   "id": "5c5077d1",
   "metadata": {},
   "outputs": [
    {
     "data": {
      "text/plain": [
       "[1, 2, 3]"
      ]
     },
     "execution_count": 46,
     "metadata": {},
     "output_type": "execute_result"
    }
   ],
   "source": [
    "t1"
   ]
  },
  {
   "cell_type": "markdown",
   "id": "5b33bc51",
   "metadata": {
    "id": "5b33bc51"
   },
   "source": [
    "No other mathematical operators work with lists, but the built-in function `sum` adds up the elements."
   ]
  },
  {
   "cell_type": "code",
   "execution_count": 47,
   "id": "0808ed08",
   "metadata": {
    "id": "0808ed08"
   },
   "outputs": [
    {
     "data": {
      "text/plain": [
       "6"
      ]
     },
     "execution_count": 47,
     "metadata": {},
     "output_type": "execute_result"
    }
   ],
   "source": [
    "sum(t1)"
   ]
  },
  {
   "cell_type": "markdown",
   "id": "f216a14d",
   "metadata": {
    "id": "f216a14d"
   },
   "source": [
    "And `min` and `max` find the smallest and largest elements."
   ]
  },
  {
   "cell_type": "code",
   "execution_count": 48,
   "id": "7ed7e53d",
   "metadata": {
    "id": "7ed7e53d"
   },
   "outputs": [
    {
     "data": {
      "text/plain": [
       "1"
      ]
     },
     "execution_count": 48,
     "metadata": {},
     "output_type": "execute_result"
    }
   ],
   "source": [
    "min(t1)"
   ]
  },
  {
   "cell_type": "code",
   "execution_count": 49,
   "id": "dda02e4e",
   "metadata": {
    "id": "dda02e4e"
   },
   "outputs": [
    {
     "data": {
      "text/plain": [
       "4"
      ]
     },
     "execution_count": 49,
     "metadata": {},
     "output_type": "execute_result"
    }
   ],
   "source": [
    "max(t2)"
   ]
  },
  {
   "cell_type": "code",
   "execution_count": 54,
   "id": "3f79fe7c",
   "metadata": {},
   "outputs": [
    {
     "ename": "TypeError",
     "evalue": "unsupported operand type(s) for +: 'int' and 'str'",
     "output_type": "error",
     "traceback": [
      "\u001b[31mTypeError\u001b[39m\u001b[31m:\u001b[39m unsupported operand type(s) for +: 'int' and 'str'\n"
     ]
    }
   ],
   "source": [
    "sum(['hello', 'goodbye', 'computer', 'coffee'])"
   ]
  },
  {
   "cell_type": "code",
   "execution_count": 53,
   "id": "efa24e2a",
   "metadata": {},
   "outputs": [
    {
     "ename": "TypeError",
     "evalue": "'>' not supported between instances of 'int' and 'str'",
     "output_type": "error",
     "traceback": [
      "\u001b[31mTypeError\u001b[39m\u001b[31m:\u001b[39m '>' not supported between instances of 'int' and 'str'\n"
     ]
    }
   ],
   "source": [
    "max(['hello', 3, [20, 5]])"
   ]
  },
  {
   "cell_type": "markdown",
   "id": "533a2009",
   "metadata": {
    "id": "533a2009"
   },
   "source": [
    "## List methods\n",
    "\n",
    "Python provides methods that operate on lists. For example, `append`\n",
    "adds a new element to the end of a list:"
   ]
  },
  {
   "cell_type": "code",
   "execution_count": 55,
   "id": "bcf04ef9",
   "metadata": {
    "id": "bcf04ef9"
   },
   "outputs": [
    {
     "data": {
      "text/plain": [
       "['a', 'e', 'f', 'b', 'c', 'd', 'z', 'e']"
      ]
     },
     "execution_count": 55,
     "metadata": {},
     "output_type": "execute_result"
    }
   ],
   "source": [
    "letters.append('e')\n",
    "letters"
   ]
  },
  {
   "cell_type": "markdown",
   "id": "ccc57f77",
   "metadata": {
    "id": "ccc57f77"
   },
   "source": [
    "`extend` takes a list as an argument and appends all of the elements:"
   ]
  },
  {
   "cell_type": "code",
   "execution_count": 56,
   "id": "be55916d",
   "metadata": {
    "id": "be55916d"
   },
   "outputs": [
    {
     "data": {
      "text/plain": [
       "['a', 'e', 'f', 'b', 'c', 'd', 'z', 'e', ['f', 'g']]"
      ]
     },
     "execution_count": 56,
     "metadata": {},
     "output_type": "execute_result"
    }
   ],
   "source": [
    "letters.append(['f', 'g'])\n",
    "letters"
   ]
  },
  {
   "cell_type": "markdown",
   "id": "0f39d9f6",
   "metadata": {
    "id": "0f39d9f6"
   },
   "source": [
    "There are two methods that remove elements from a list.\n",
    "If you know the index of the element you want, you can use `pop`."
   ]
  },
  {
   "cell_type": "code",
   "execution_count": 59,
   "id": "b22da905",
   "metadata": {
    "id": "b22da905"
   },
   "outputs": [
    {
     "data": {
      "text/plain": [
       "'b'"
      ]
     },
     "execution_count": 59,
     "metadata": {},
     "output_type": "execute_result"
    }
   ],
   "source": [
    "t = ['a', 'b', 'c']\n",
    "t.pop(1)"
   ]
  },
  {
   "cell_type": "markdown",
   "id": "6729415a",
   "metadata": {
    "id": "6729415a"
   },
   "source": [
    "The return value is the element that was removed.\n",
    "And we can confirm that the list has been modified."
   ]
  },
  {
   "cell_type": "code",
   "execution_count": 60,
   "id": "01bdff91",
   "metadata": {
    "id": "01bdff91"
   },
   "outputs": [
    {
     "data": {
      "text/plain": [
       "['a', 'c']"
      ]
     },
     "execution_count": 60,
     "metadata": {},
     "output_type": "execute_result"
    }
   ],
   "source": [
    "t"
   ]
  },
  {
   "cell_type": "markdown",
   "id": "1e97ee7d",
   "metadata": {
    "id": "1e97ee7d"
   },
   "source": [
    "If you know the element you want to remove (but not the index), you can use `remove`:"
   ]
  },
  {
   "cell_type": "code",
   "execution_count": 61,
   "id": "babe366e",
   "metadata": {
    "id": "babe366e"
   },
   "outputs": [],
   "source": [
    "t = ['a', 'b', 'c']\n",
    "t.remove('b')"
   ]
  },
  {
   "cell_type": "markdown",
   "id": "60e710fe",
   "metadata": {
    "id": "60e710fe"
   },
   "source": [
    "The return value from `remove` is `None`.\n",
    "But we can confirm that the list has been modified."
   ]
  },
  {
   "cell_type": "code",
   "execution_count": 62,
   "id": "f80f5b1d",
   "metadata": {
    "id": "f80f5b1d"
   },
   "outputs": [
    {
     "data": {
      "text/plain": [
       "['a', 'c']"
      ]
     },
     "execution_count": 62,
     "metadata": {},
     "output_type": "execute_result"
    }
   ],
   "source": [
    "t"
   ]
  },
  {
   "cell_type": "markdown",
   "id": "2a9448a8",
   "metadata": {
    "id": "2a9448a8"
   },
   "source": [
    "If the element you ask for is not in the list, that's a ValueError."
   ]
  },
  {
   "cell_type": "code",
   "execution_count": 63,
   "id": "861f8e7e",
   "metadata": {
    "id": "861f8e7e",
    "tags": []
   },
   "outputs": [
    {
     "ename": "ValueError",
     "evalue": "list.remove(x): x not in list",
     "output_type": "error",
     "traceback": [
      "\u001b[31mValueError\u001b[39m\u001b[31m:\u001b[39m list.remove(x): x not in list\n"
     ]
    }
   ],
   "source": [
    "%%expect ValueError\n",
    "\n",
    "t.remove('d')"
   ]
  },
  {
   "cell_type": "markdown",
   "id": "18305f96",
   "metadata": {
    "id": "18305f96"
   },
   "source": [
    "## Lists and strings\n",
    "\n",
    "A string is a sequence of characters and a list is a sequence of values,\n",
    "but a list of characters is not the same as a string.\n",
    "To convert from a string to a list of characters, you can use the `list` function."
   ]
  },
  {
   "cell_type": "code",
   "execution_count": 64,
   "id": "1b50bc13",
   "metadata": {
    "id": "1b50bc13"
   },
   "outputs": [
    {
     "data": {
      "text/plain": [
       "['s', 'p', 'a', 'm']"
      ]
     },
     "execution_count": 64,
     "metadata": {},
     "output_type": "execute_result"
    }
   ],
   "source": [
    "s = 'spam'\n",
    "t = list(s)\n",
    "t"
   ]
  },
  {
   "cell_type": "markdown",
   "id": "0291ef69",
   "metadata": {
    "id": "0291ef69"
   },
   "source": [
    "The `list` function breaks a string into individual letters.\n",
    "If you want to break a string into words, you can use the `split` method:"
   ]
  },
  {
   "cell_type": "code",
   "execution_count": null,
   "id": "c28e5127",
   "metadata": {
    "id": "c28e5127"
   },
   "outputs": [
    {
     "ename": "ValueError",
     "evalue": "empty separator",
     "output_type": "error",
     "traceback": [
      "\u001b[31mValueError\u001b[39m\u001b[31m:\u001b[39m empty separator\n"
     ]
    }
   ],
   "source": [
    "s = 'pining      for the     ' \\\n",
    "'fjords'\n",
    "t = s.split()\n",
    "t"
   ]
  },
  {
   "cell_type": "markdown",
   "id": "0e16909d",
   "metadata": {
    "id": "0e16909d"
   },
   "source": [
    "An optional argument called a **delimiter** specifies which characters to use as word boundaries. The following example uses a hyphen as a delimiter."
   ]
  },
  {
   "cell_type": "code",
   "execution_count": null,
   "id": "ec6ea206",
   "metadata": {
    "id": "ec6ea206"
   },
   "outputs": [],
   "source": [
    "s = 'ex-parrot'\n",
    "t = s.split('-')\n",
    "t"
   ]
  },
  {
   "cell_type": "markdown",
   "id": "7c61f916",
   "metadata": {
    "id": "7c61f916"
   },
   "source": [
    "If you have a list of strings, you can concatenate them into a single string using `join`.\n",
    "`join` is a string method, so you have to invoke it on the delimiter and pass the list as an argument."
   ]
  },
  {
   "cell_type": "code",
   "execution_count": 74,
   "id": "75c74d3c",
   "metadata": {
    "id": "75c74d3c"
   },
   "outputs": [
    {
     "data": {
      "text/plain": [
       "'pining-for-the-fjords'"
      ]
     },
     "execution_count": 74,
     "metadata": {},
     "output_type": "execute_result"
    }
   ],
   "source": [
    "delimiter = ' '\n",
    "t = ['pining', 'for', 'the', 'fjords']\n",
    "s = \"-\".join(t)\n",
    "s"
   ]
  },
  {
   "cell_type": "markdown",
   "id": "bedd842b",
   "metadata": {
    "id": "bedd842b"
   },
   "source": [
    "In this case the delimiter is a space character, so `join` puts a space\n",
    "between words.\n",
    "To join strings without spaces, you can use the empty string, `''`, as a delimiter."
   ]
  },
  {
   "cell_type": "markdown",
   "id": "181215ce",
   "metadata": {
    "id": "181215ce"
   },
   "source": [
    "## Looping through a list\n",
    "\n",
    "You can use a `for` statement to loop through the elements of a list."
   ]
  },
  {
   "cell_type": "code",
   "execution_count": 75,
   "id": "a5df1e10",
   "metadata": {
    "id": "a5df1e10"
   },
   "outputs": [
    {
     "name": "stdout",
     "output_type": "stream",
     "text": [
      "Cheddar\n",
      "Edam\n",
      "Gouda\n"
     ]
    }
   ],
   "source": [
    "for cheese in cheeses:\n",
    "    print(cheese)"
   ]
  },
  {
   "cell_type": "markdown",
   "id": "c0e53a09",
   "metadata": {
    "id": "c0e53a09"
   },
   "source": [
    "For example, after using `split` to make a list of words, we can use `for` to loop through them."
   ]
  },
  {
   "cell_type": "code",
   "execution_count": 76,
   "id": "76b2c2e3",
   "metadata": {
    "id": "76b2c2e3"
   },
   "outputs": [
    {
     "name": "stdout",
     "output_type": "stream",
     "text": [
      "6\n",
      "3\n",
      "3\n",
      "6\n"
     ]
    }
   ],
   "source": [
    "s = 'pining for the fjords'\n",
    "\n",
    "for word in s.split():\n",
    "    print(len(word))"
   ]
  },
  {
   "cell_type": "markdown",
   "id": "0857b55b",
   "metadata": {
    "id": "0857b55b"
   },
   "source": [
    "A `for` loop over an empty list never runs the indented statements."
   ]
  },
  {
   "cell_type": "code",
   "execution_count": null,
   "id": "7e844887",
   "metadata": {
    "id": "7e844887"
   },
   "outputs": [],
   "source": [
    "for x in []:\n",
    "    print('This never happens.')"
   ]
  },
  {
   "cell_type": "markdown",
   "id": "6e5f55c9",
   "metadata": {
    "id": "6e5f55c9"
   },
   "source": [
    "## Sorting lists\n",
    "\n",
    "Python provides a built-in function called `sorted` that sorts the elements of a list."
   ]
  },
  {
   "cell_type": "code",
   "execution_count": 77,
   "id": "9db54d53",
   "metadata": {
    "id": "9db54d53"
   },
   "outputs": [
    {
     "data": {
      "text/plain": [
       "['a', 'b', 'c']"
      ]
     },
     "execution_count": 77,
     "metadata": {},
     "output_type": "execute_result"
    }
   ],
   "source": [
    "scramble = ['c', 'a', 'b']\n",
    "sorted(scramble)"
   ]
  },
  {
   "cell_type": "markdown",
   "id": "44e028cf",
   "metadata": {
    "id": "44e028cf"
   },
   "source": [
    "The original list is unchanged."
   ]
  },
  {
   "cell_type": "code",
   "execution_count": 78,
   "id": "33d11287",
   "metadata": {
    "id": "33d11287"
   },
   "outputs": [
    {
     "data": {
      "text/plain": [
       "['c', 'a', 'b']"
      ]
     },
     "execution_count": 78,
     "metadata": {},
     "output_type": "execute_result"
    }
   ],
   "source": [
    "scramble"
   ]
  },
  {
   "cell_type": "markdown",
   "id": "530146af",
   "metadata": {
    "id": "530146af"
   },
   "source": [
    "`sorted` works with any kind of sequence, not just lists. So we can sort the letters in a string like this."
   ]
  },
  {
   "cell_type": "code",
   "execution_count": 79,
   "id": "38c7cb0c",
   "metadata": {
    "id": "38c7cb0c"
   },
   "outputs": [
    {
     "data": {
      "text/plain": [
       "['e', 'e', 'l', 'r', 's', 't', 't']"
      ]
     },
     "execution_count": 79,
     "metadata": {},
     "output_type": "execute_result"
    }
   ],
   "source": [
    "sorted('letters')"
   ]
  },
  {
   "cell_type": "markdown",
   "id": "f90bd9ea",
   "metadata": {
    "id": "f90bd9ea"
   },
   "source": [
    "The result is a list.\n",
    "To convert the list to a string, we can use `join`."
   ]
  },
  {
   "cell_type": "code",
   "execution_count": 80,
   "id": "2adb2fc3",
   "metadata": {
    "id": "2adb2fc3"
   },
   "outputs": [
    {
     "data": {
      "text/plain": [
       "'eelrstt'"
      ]
     },
     "execution_count": 80,
     "metadata": {},
     "output_type": "execute_result"
    }
   ],
   "source": [
    "''.join(sorted('letters'))"
   ]
  },
  {
   "cell_type": "markdown",
   "id": "a57084e2",
   "metadata": {
    "id": "a57084e2"
   },
   "source": [
    "With an empty string as the delimiter, the elements of the list are joined with nothing between them."
   ]
  },
  {
   "cell_type": "markdown",
   "id": "792b5078",
   "metadata": {},
   "source": [
    "## List comprehension"
   ]
  },
  {
   "cell_type": "markdown",
   "id": "113b0df9",
   "metadata": {},
   "source": [
    "[element for element in sequence]"
   ]
  },
  {
   "cell_type": "code",
   "execution_count": 81,
   "id": "a9ebe9ac",
   "metadata": {},
   "outputs": [
    {
     "data": {
      "text/plain": [
       "[1, 2, 3, 4]"
      ]
     },
     "execution_count": 81,
     "metadata": {},
     "output_type": "execute_result"
    }
   ],
   "source": [
    "a = [1, 2, 3, 4]\n",
    "\n",
    "[x for x in a]"
   ]
  },
  {
   "cell_type": "code",
   "execution_count": 82,
   "id": "40e61484",
   "metadata": {},
   "outputs": [
    {
     "data": {
      "text/plain": [
       "[1, 4, 9, 16]"
      ]
     },
     "execution_count": 82,
     "metadata": {},
     "output_type": "execute_result"
    }
   ],
   "source": [
    "[x*x for x in a]"
   ]
  },
  {
   "cell_type": "code",
   "execution_count": 83,
   "id": "268540f6",
   "metadata": {},
   "outputs": [
    {
     "data": {
      "text/plain": [
       "[5, 7, 8, 4]"
      ]
     },
     "execution_count": 83,
     "metadata": {},
     "output_type": "execute_result"
    }
   ],
   "source": [
    "b = \"hello goodbye computer desk\".split()\n",
    "[len(x) for x in b]"
   ]
  },
  {
   "cell_type": "code",
   "execution_count": 84,
   "id": "b5d384e2",
   "metadata": {},
   "outputs": [
    {
     "data": {
      "text/plain": [
       "['olleh', 'eybdoog', 'retupmoc', 'ksed']"
      ]
     },
     "execution_count": 84,
     "metadata": {},
     "output_type": "execute_result"
    }
   ],
   "source": [
    "[''.join(reversed(x)) for x in b]"
   ]
  },
  {
   "cell_type": "code",
   "execution_count": 85,
   "id": "ce233bc5",
   "metadata": {},
   "outputs": [
    {
     "data": {
      "text/plain": [
       "['h', 'g', 'c', 'd']"
      ]
     },
     "execution_count": 85,
     "metadata": {},
     "output_type": "execute_result"
    }
   ],
   "source": [
    "[s[0] for s in b]\n"
   ]
  },
  {
   "cell_type": "code",
   "execution_count": null,
   "id": "8e6f0149",
   "metadata": {},
   "outputs": [],
   "source": [
    "[s[0] == 'c' for s in b]"
   ]
  },
  {
   "cell_type": "markdown",
   "id": "c550592e",
   "metadata": {},
   "source": [
    "[x for x in lst if b]"
   ]
  },
  {
   "cell_type": "code",
   "execution_count": 86,
   "id": "1766f7ca",
   "metadata": {},
   "outputs": [
    {
     "data": {
      "text/plain": [
       "[2, 4]"
      ]
     },
     "execution_count": 86,
     "metadata": {},
     "output_type": "execute_result"
    }
   ],
   "source": [
    "a = [1, 2, 3, 4]\n",
    "\n",
    "[x for x in a if x % 2 == 0]"
   ]
  },
  {
   "cell_type": "code",
   "execution_count": 87,
   "id": "f62339b7",
   "metadata": {},
   "outputs": [
    {
     "data": {
      "text/plain": [
       "[4, 16]"
      ]
     },
     "execution_count": 87,
     "metadata": {},
     "output_type": "execute_result"
    }
   ],
   "source": [
    "[x*x for x in a if x%2 == 0]"
   ]
  },
  {
   "cell_type": "code",
   "execution_count": 89,
   "id": "1bdb1194",
   "metadata": {},
   "outputs": [
    {
     "data": {
      "text/plain": [
       "['goodbyegoodbye', 'computercomputer']"
      ]
     },
     "execution_count": 89,
     "metadata": {},
     "output_type": "execute_result"
    }
   ],
   "source": [
    "b = \"hello goodbye computer desk\".split()\n",
    "[s+s for s in b if len(s) > 5]"
   ]
  },
  {
   "cell_type": "markdown",
   "id": "58bad485",
   "metadata": {},
   "source": [
    "[result if predicate else otherResult for element in sequence]"
   ]
  },
  {
   "cell_type": "code",
   "execution_count": 93,
   "id": "6ab54207",
   "metadata": {},
   "outputs": [
    {
     "data": {
      "text/plain": [
       "['', 'goodbyegoodbye', 'computercomputer', '']"
      ]
     },
     "execution_count": 93,
     "metadata": {},
     "output_type": "execute_result"
    }
   ],
   "source": [
    "[s+s if len(s) > 5  else '' for s in b]"
   ]
  },
  {
   "cell_type": "markdown",
   "id": "6842c282",
   "metadata": {},
   "source": [
    "## Enumerate, zip"
   ]
  },
  {
   "cell_type": "code",
   "execution_count": null,
   "id": "e176896c",
   "metadata": {},
   "outputs": [],
   "source": [
    "i = 0\n",
    "while True:\n",
    "    do something\n",
    "    if i > 5:\n",
    "        break\n",
    "    i += 1\n",
    "\n",
    "i = 0\n",
    "for x in lst:\n",
    "    do something\n",
    "    if i > 5\n",
    "    break\n",
    "    i += 1\n"
   ]
  },
  {
   "cell_type": "code",
   "execution_count": 96,
   "id": "96059972",
   "metadata": {},
   "outputs": [
    {
     "name": "stdout",
     "output_type": "stream",
     "text": [
      "['hello', 'goodbye', 'computer', 'desk']\n",
      "[(0, 'hello'), (1, 'goodbye'), (2, 'computer'), (3, 'desk')]\n"
     ]
    }
   ],
   "source": [
    "b = \"hello goodbye computer desk\".split()\n",
    "print(b)\n",
    "print(list(enumerate(b)))"
   ]
  },
  {
   "cell_type": "code",
   "execution_count": 97,
   "id": "bc0b0bcc",
   "metadata": {},
   "outputs": [
    {
     "name": "stdout",
     "output_type": "stream",
     "text": [
      "hello-beginning\n",
      "goodbye-beginning\n",
      "computer_end\n",
      "desk_end\n"
     ]
    }
   ],
   "source": [
    "for i, s in enumerate(b):\n",
    "    if i < 2:\n",
    "        print(s + \"-beginning\")\n",
    "    else:\n",
    "        print(s + \"_end\")"
   ]
  },
  {
   "cell_type": "code",
   "execution_count": 98,
   "id": "5d237ed4",
   "metadata": {},
   "outputs": [],
   "source": [
    "x = [1, 2, 3, 4]\n",
    "y = [5, 6, 7, 8]\n",
    "\n"
   ]
  },
  {
   "cell_type": "code",
   "execution_count": 99,
   "id": "749b43c9",
   "metadata": {},
   "outputs": [
    {
     "data": {
      "text/plain": [
       "[6, 8, 10, 12]"
      ]
     },
     "execution_count": 99,
     "metadata": {},
     "output_type": "execute_result"
    }
   ],
   "source": [
    "z = []\n",
    "for i in range(len(x)):\n",
    "    z.append(x[i] + y[i])\n",
    "z"
   ]
  },
  {
   "cell_type": "code",
   "execution_count": 101,
   "id": "f7d4dbff",
   "metadata": {},
   "outputs": [
    {
     "data": {
      "text/plain": [
       "[6, 8, 10, 12]"
      ]
     },
     "execution_count": 101,
     "metadata": {},
     "output_type": "execute_result"
    }
   ],
   "source": [
    "z = []\n",
    "for xi, yi in zip(x, y):\n",
    "    z.append(xi + yi)\n",
    "z"
   ]
  },
  {
   "cell_type": "markdown",
   "id": "ce98b3d5",
   "metadata": {
    "id": "ce98b3d5"
   },
   "source": [
    "## Objects and values\n",
    "\n",
    "If we run these assignment statements:"
   ]
  },
  {
   "cell_type": "code",
   "execution_count": null,
   "id": "aa547282",
   "metadata": {
    "id": "aa547282"
   },
   "outputs": [],
   "source": [
    "a = 'banana'\n",
    "b = 'banana'"
   ]
  },
  {
   "cell_type": "markdown",
   "id": "33d020aa",
   "metadata": {
    "id": "33d020aa"
   },
   "source": [
    "We know that `a` and `b` both refer to a string, but we don't know whether they refer to the *same* string.\n",
    "There are two possible states, shown in the following figure."
   ]
  },
  {
   "cell_type": "code",
   "execution_count": null,
   "id": "95a2aded",
   "metadata": {
    "id": "95a2aded",
    "tags": []
   },
   "outputs": [],
   "source": [
    "from diagram import Frame, Stack\n",
    "\n",
    "s = 'banana'\n",
    "bindings = [Binding(Value(name), Value(repr(s))) for name in 'ab']\n",
    "frame1 = Frame(bindings, dy=-0.25)\n",
    "\n",
    "binding1 = Binding(Value('a'), Value(repr(s)), dy=-0.11)\n",
    "binding2 = Binding(Value('b'), draw_value=False, dy=0.11)\n",
    "frame2 = Frame([binding1, binding2], dy=-0.25)\n",
    "\n",
    "stack = Stack([frame1, frame2], dx=1.7, dy=0)"
   ]
  },
  {
   "cell_type": "code",
   "execution_count": null,
   "id": "3d75a28c",
   "metadata": {
    "id": "3d75a28c",
    "tags": []
   },
   "outputs": [],
   "source": [
    "width, height, x, y = [2.85, 0.76, 0.17, 0.51]\n",
    "ax = diagram(width, height)\n",
    "bbox = stack.draw(ax, x, y)\n",
    "# adjust(x, y, bbox)"
   ]
  },
  {
   "cell_type": "markdown",
   "id": "2f0b0431",
   "metadata": {
    "id": "2f0b0431"
   },
   "source": [
    "In the diagram on the left, `a` and `b` refer to two different objects that have the\n",
    "same value. In the diagram on the right, they refer to the same object.\n",
    "To check whether two variables refer to the same object, you can use the `is` operator."
   ]
  },
  {
   "cell_type": "code",
   "execution_count": null,
   "id": "a37e37bf",
   "metadata": {
    "id": "a37e37bf"
   },
   "outputs": [],
   "source": [
    "a = 'banana'\n",
    "b = 'banana'\n",
    "a is b"
   ]
  },
  {
   "cell_type": "markdown",
   "id": "d1eb0e36",
   "metadata": {
    "id": "d1eb0e36"
   },
   "source": [
    "In this example, Python only created one string object, and both `a`\n",
    "and `b` refer to it.\n",
    "But when you create two lists, you get two objects."
   ]
  },
  {
   "cell_type": "code",
   "execution_count": null,
   "id": "d6af7316",
   "metadata": {
    "id": "d6af7316"
   },
   "outputs": [],
   "source": [
    "a = [1, 2, 3]\n",
    "b = [1, 2, 3]\n",
    "a is b"
   ]
  },
  {
   "cell_type": "markdown",
   "id": "a8d4c3d4",
   "metadata": {
    "id": "a8d4c3d4"
   },
   "source": [
    "So the state diagram looks like this."
   ]
  },
  {
   "cell_type": "code",
   "execution_count": null,
   "id": "dea08b82",
   "metadata": {
    "id": "dea08b82",
    "tags": []
   },
   "outputs": [],
   "source": [
    "t = [1, 2, 3]\n",
    "binding1 = Binding(Value('a'), Value(repr(t)))\n",
    "binding2 = Binding(Value('b'), Value(repr(t)))\n",
    "frame = Frame([binding1, binding2], dy=-0.25)"
   ]
  },
  {
   "cell_type": "code",
   "execution_count": null,
   "id": "7e66ee69",
   "metadata": {
    "id": "7e66ee69",
    "tags": []
   },
   "outputs": [],
   "source": [
    "width, height, x, y = [1.16, 0.76, 0.21, 0.51]\n",
    "ax = diagram(width, height)\n",
    "bbox = frame.draw(ax, x, y)\n",
    "# adjust(x, y, bbox)"
   ]
  },
  {
   "cell_type": "markdown",
   "id": "cc115a9f",
   "metadata": {
    "id": "cc115a9f"
   },
   "source": [
    "In this case we would say that the two lists are **equivalent**, because they have the same elements, but not **identical**, because they are not the same object.\n",
    "If two objects are identical, they are also equivalent, but if they are equivalent, they are not necessarily identical."
   ]
  },
  {
   "cell_type": "markdown",
   "id": "a58db021",
   "metadata": {
    "id": "a58db021"
   },
   "source": [
    "## Aliasing\n",
    "\n",
    "If `a` refers to an object and you assign `b = a`, then both variables refer to the same object."
   ]
  },
  {
   "cell_type": "code",
   "execution_count": null,
   "id": "d6a7eb5b",
   "metadata": {
    "id": "d6a7eb5b"
   },
   "outputs": [],
   "source": [
    "a = [1, 2, 3]\n",
    "b = a\n",
    "b is a"
   ]
  },
  {
   "cell_type": "markdown",
   "id": "f6ab3262",
   "metadata": {
    "id": "f6ab3262"
   },
   "source": [
    "So the state diagram looks like this."
   ]
  },
  {
   "cell_type": "code",
   "execution_count": null,
   "id": "dd406791",
   "metadata": {
    "id": "dd406791",
    "tags": []
   },
   "outputs": [],
   "source": [
    "t = [1, 2, 3]\n",
    "binding1 = Binding(Value('a'), Value(repr(t)), dy=-0.11)\n",
    "binding2 = Binding(Value('b'), draw_value=False, dy=0.11)\n",
    "frame = Frame([binding1, binding2], dy=-0.25)"
   ]
  },
  {
   "cell_type": "code",
   "execution_count": null,
   "id": "552e1e1e",
   "metadata": {
    "id": "552e1e1e",
    "tags": []
   },
   "outputs": [],
   "source": [
    "width, height, x, y = [1.11, 0.81, 0.17, 0.56]\n",
    "ax = diagram(width, height)\n",
    "bbox = frame.draw(ax, x, y)\n",
    "# adjust(x, y, bbox)"
   ]
  },
  {
   "cell_type": "markdown",
   "id": "c676fde9",
   "metadata": {
    "id": "c676fde9"
   },
   "source": [
    "The association of a variable with an object is called a **reference**.\n",
    "In this example, there are two references to the same object.\n",
    "\n",
    "An object with more than one reference has more than one name, so we say the object is **aliased**.\n",
    "If the aliased object is mutable, changes made with one name affect the other.\n",
    "In this example, if we change the object `b` refers to, we are also changing the object `a` refers to."
   ]
  },
  {
   "cell_type": "code",
   "execution_count": null,
   "id": "6e3c1b24",
   "metadata": {
    "id": "6e3c1b24"
   },
   "outputs": [],
   "source": [
    "b[0] = 5\n",
    "a"
   ]
  },
  {
   "cell_type": "markdown",
   "id": "e3ef0537",
   "metadata": {
    "id": "e3ef0537"
   },
   "source": [
    "So we would say that `a` \"sees\" this change.\n",
    "Although this behavior can be useful, it is error-prone.\n",
    "In general, it is safer to avoid aliasing when you are working with mutable objects.\n",
    "\n",
    "For immutable objects like strings, aliasing is not as much of a problem.\n",
    "In this example:"
   ]
  },
  {
   "cell_type": "code",
   "execution_count": null,
   "id": "dad8a246",
   "metadata": {
    "id": "dad8a246"
   },
   "outputs": [],
   "source": [
    "a = 'banana'\n",
    "b = 'banana'"
   ]
  },
  {
   "cell_type": "markdown",
   "id": "952bbf60",
   "metadata": {
    "id": "952bbf60"
   },
   "source": [
    "It almost never makes a difference whether `a` and `b` refer to the same\n",
    "string or not."
   ]
  },
  {
   "cell_type": "markdown",
   "id": "35045bef",
   "metadata": {
    "id": "35045bef"
   },
   "source": [
    "## List arguments\n",
    "\n",
    "When you pass a list to a function, the function gets a reference to the\n",
    "list. If the function modifies the list, the caller sees the change. For\n",
    "example, `pop_first` uses the list method `pop` to remove the first element from a list."
   ]
  },
  {
   "cell_type": "code",
   "execution_count": null,
   "id": "613b1845",
   "metadata": {
    "id": "613b1845"
   },
   "outputs": [],
   "source": [
    "def pop_first(lst):\n",
    "    return lst.pop(0)"
   ]
  },
  {
   "cell_type": "markdown",
   "id": "4953b0f9",
   "metadata": {
    "id": "4953b0f9"
   },
   "source": [
    "We can use it like this."
   ]
  },
  {
   "cell_type": "code",
   "execution_count": null,
   "id": "3aff3598",
   "metadata": {
    "id": "3aff3598"
   },
   "outputs": [],
   "source": [
    "letters = ['a', 'b', 'c']\n",
    "pop_first(letters)"
   ]
  },
  {
   "cell_type": "markdown",
   "id": "ef5d3c1e",
   "metadata": {
    "id": "ef5d3c1e"
   },
   "source": [
    "The return value is the first element, which has been removed from the list -- as we can see by displaying the modified list."
   ]
  },
  {
   "cell_type": "code",
   "execution_count": null,
   "id": "c10e4dcc",
   "metadata": {
    "id": "c10e4dcc"
   },
   "outputs": [],
   "source": [
    "letters"
   ]
  },
  {
   "cell_type": "markdown",
   "id": "e5288e08",
   "metadata": {
    "id": "e5288e08"
   },
   "source": [
    "In this example, the parameter `lst` and the variable `letters` are aliases for the same object, so the state diagram looks like this:"
   ]
  },
  {
   "cell_type": "code",
   "execution_count": null,
   "id": "a13e72c7",
   "metadata": {
    "id": "a13e72c7",
    "tags": []
   },
   "outputs": [],
   "source": [
    "lst = make_list('abc', dy=-0.3, offsetx=0.1)\n",
    "binding1 = Binding(Value('letters'), draw_value=False)\n",
    "frame1 = Frame([binding1], name='__main__', loc='left')\n",
    "\n",
    "binding2 = Binding(Value('lst'), draw_value=False, dx=0.61, dy=0.35)\n",
    "frame2 = Frame([binding2], name='pop_first', loc='left', offsetx=0.08)\n",
    "\n",
    "stack = Stack([frame1, frame2], dx=-0.3, dy=-0.5)"
   ]
  },
  {
   "cell_type": "code",
   "execution_count": null,
   "id": "1a06dae9",
   "metadata": {
    "id": "1a06dae9",
    "tags": []
   },
   "outputs": [],
   "source": [
    "width, height, x, y = [2.04, 1.24, 1.06, 0.85]\n",
    "ax = diagram(width, height)\n",
    "bbox1 = stack.draw(ax, x, y)\n",
    "bbox2 = lst.draw(ax, x+0.5, y)\n",
    "bbox = Bbox.union([bbox1, bbox2])\n",
    "adjust(x, y, bbox)"
   ]
  },
  {
   "cell_type": "markdown",
   "id": "c1a093d2",
   "metadata": {
    "id": "c1a093d2"
   },
   "source": [
    "Passing a reference to an object as an argument to a function creates a form of aliasing.\n",
    "If the function modifies the object, those changes persist after the function is done."
   ]
  },
  {
   "cell_type": "markdown",
   "id": "88c07ec9",
   "metadata": {
    "id": "88c07ec9",
    "tags": []
   },
   "source": [
    "## Making a word list\n",
    "\n",
    "In the previous chapter, we read the file `words.txt` and searched for words with certain properties, like using the letter `e`.\n",
    "But we read the entire file many times, which is not efficient.\n",
    "It is better to read the file once and put the words in a list.\n",
    "The following loop shows how."
   ]
  },
  {
   "cell_type": "code",
   "execution_count": 104,
   "id": "6550f0b8",
   "metadata": {
    "id": "6550f0b8",
    "tags": []
   },
   "outputs": [],
   "source": [
    "download('https://raw.githubusercontent.com/AllenDowney/ThinkPython/v3/words.txt');"
   ]
  },
  {
   "cell_type": "code",
   "execution_count": null,
   "id": "e5a94833",
   "metadata": {
    "id": "e5a94833"
   },
   "outputs": [
    {
     "data": {
      "text/plain": [
       "113783"
      ]
     },
     "execution_count": 105,
     "metadata": {},
     "output_type": "execute_result"
    }
   ],
   "source": [
    "word_list = []\n",
    "\n",
    "for line in open('words.txt'):\n",
    "    word = line.strip()\n",
    "    word_list.append(word)\n",
    "\n",
    "len(word_list)"
   ]
  },
  {
   "cell_type": "code",
   "execution_count": 114,
   "id": "43eb2620",
   "metadata": {},
   "outputs": [
    {
     "data": {
      "text/plain": [
       "'merls'"
      ]
     },
     "execution_count": 114,
     "metadata": {},
     "output_type": "execute_result"
    }
   ],
   "source": [
    "word_list[60000]"
   ]
  },
  {
   "cell_type": "code",
   "execution_count": 113,
   "id": "f6b2cdc8",
   "metadata": {},
   "outputs": [
    {
     "data": {
      "text/plain": [
       "113783"
      ]
     },
     "execution_count": 113,
     "metadata": {},
     "output_type": "execute_result"
    }
   ],
   "source": [
    "word_list = []\n",
    "\n",
    "f = open(\"words.txt\")\n",
    "word_list = [w.strip() for w in f.readlines()]\n",
    "\n",
    "len(word_list)"
   ]
  },
  {
   "cell_type": "code",
   "execution_count": 111,
   "id": "58ab7364",
   "metadata": {},
   "outputs": [],
   "source": [
    "word_list = [w.strip() for w in word_list]"
   ]
  },
  {
   "cell_type": "markdown",
   "id": "44450ffa",
   "metadata": {
    "id": "44450ffa"
   },
   "source": [
    "Before the loop, `word_list` is initialized with an empty list.\n",
    "Each time through the loop, the `append` method adds a word to the end.\n",
    "When the loop is done, there are more than 113,000 words in the list.\n",
    "\n",
    "Another way to do the same thing is to use `read` to read the entire file into a string."
   ]
  },
  {
   "cell_type": "code",
   "execution_count": 115,
   "id": "32e28204",
   "metadata": {
    "id": "32e28204"
   },
   "outputs": [
    {
     "data": {
      "text/plain": [
       "1016511"
      ]
     },
     "execution_count": 115,
     "metadata": {},
     "output_type": "execute_result"
    }
   ],
   "source": [
    "string = open('words.txt').read()\n",
    "len(string)"
   ]
  },
  {
   "cell_type": "code",
   "execution_count": 116,
   "id": "6b46e690",
   "metadata": {},
   "outputs": [
    {
     "data": {
      "text/plain": [
       "113783"
      ]
     },
     "execution_count": 116,
     "metadata": {},
     "output_type": "execute_result"
    }
   ],
   "source": [
    "len([c for c in string if c == '\\n'])"
   ]
  },
  {
   "cell_type": "code",
   "execution_count": 117,
   "id": "74023f52",
   "metadata": {},
   "outputs": [
    {
     "data": {
      "text/plain": [
       "113783"
      ]
     },
     "execution_count": 117,
     "metadata": {},
     "output_type": "execute_result"
    }
   ],
   "source": [
    "len(string) - len(string.replace(\"\\n\", ''))"
   ]
  },
  {
   "cell_type": "code",
   "execution_count": 119,
   "id": "a462390b",
   "metadata": {},
   "outputs": [
    {
     "data": {
      "text/plain": [
       "113783"
      ]
     },
     "execution_count": 119,
     "metadata": {},
     "output_type": "execute_result"
    }
   ],
   "source": [
    "import re\n",
    "pattern = \"\\n\"\n",
    "len(re.findall(pattern, string))"
   ]
  },
  {
   "cell_type": "markdown",
   "id": "65718c7f",
   "metadata": {
    "id": "65718c7f"
   },
   "source": [
    "The result is a single string with more than a million characters.\n",
    "We can use the `split` method to split it into a list of words."
   ]
  },
  {
   "cell_type": "code",
   "execution_count": 120,
   "id": "4e35f7ce",
   "metadata": {
    "id": "4e35f7ce"
   },
   "outputs": [
    {
     "data": {
      "text/plain": [
       "113783"
      ]
     },
     "execution_count": 120,
     "metadata": {},
     "output_type": "execute_result"
    }
   ],
   "source": [
    "word_list = string.split()\n",
    "len(word_list)"
   ]
  },
  {
   "cell_type": "markdown",
   "id": "1b5b25a3",
   "metadata": {
    "id": "1b5b25a3"
   },
   "source": [
    "Now, to check whether a string appears in the list, we can use the `in` operator.\n",
    "For example, `'demotic'` is in the list."
   ]
  },
  {
   "cell_type": "code",
   "execution_count": 121,
   "id": "a778a62a",
   "metadata": {
    "id": "a778a62a"
   },
   "outputs": [
    {
     "data": {
      "text/plain": [
       "True"
      ]
     },
     "execution_count": 121,
     "metadata": {},
     "output_type": "execute_result"
    }
   ],
   "source": [
    "'demotic' in word_list"
   ]
  },
  {
   "cell_type": "markdown",
   "id": "9df6674d",
   "metadata": {
    "id": "9df6674d"
   },
   "source": [
    "But `'contrafibularities'` is not."
   ]
  },
  {
   "cell_type": "code",
   "execution_count": 122,
   "id": "63341c0e",
   "metadata": {
    "id": "63341c0e"
   },
   "outputs": [
    {
     "data": {
      "text/plain": [
       "False"
      ]
     },
     "execution_count": 122,
     "metadata": {},
     "output_type": "execute_result"
    }
   ],
   "source": [
    "'contrafibularities' in word_list"
   ]
  },
  {
   "cell_type": "markdown",
   "id": "243c25b6",
   "metadata": {
    "id": "243c25b6"
   },
   "source": [
    "And I have to say, I'm anaspeptic about it."
   ]
  },
  {
   "cell_type": "markdown",
   "id": "ce9ffd79",
   "metadata": {
    "id": "ce9ffd79"
   },
   "source": [
    "## Debugging\n",
    "\n",
    "Note that most list methods modify the argument and return `None`.\n",
    "This is the opposite of the string methods, which return a new string and leave the original alone.\n",
    "\n",
    "If you are used to writing string code like this:"
   ]
  },
  {
   "cell_type": "code",
   "execution_count": null,
   "id": "88872f14",
   "metadata": {
    "id": "88872f14"
   },
   "outputs": [],
   "source": [
    "word = 'plumage!'\n",
    "word = word.strip('!')\n",
    "word"
   ]
  },
  {
   "cell_type": "markdown",
   "id": "d2117582",
   "metadata": {
    "id": "d2117582"
   },
   "source": [
    "It is tempting to write list code like this:"
   ]
  },
  {
   "cell_type": "code",
   "execution_count": null,
   "id": "e28e7135",
   "metadata": {
    "id": "e28e7135"
   },
   "outputs": [],
   "source": [
    "t = [1, 2, 3]\n",
    "t = t.remove(3)           # WRONG!"
   ]
  },
  {
   "cell_type": "markdown",
   "id": "991c439d",
   "metadata": {
    "id": "991c439d"
   },
   "source": [
    "`remove` modifies the list and returns `None`, so next operation you perform with `t` is likely to fail."
   ]
  },
  {
   "cell_type": "code",
   "execution_count": null,
   "id": "97cf0c61",
   "metadata": {
    "id": "97cf0c61",
    "tags": []
   },
   "outputs": [],
   "source": [
    "%%expect AttributeError\n",
    "\n",
    "t.remove(2)"
   ]
  },
  {
   "cell_type": "markdown",
   "id": "c500e2d8",
   "metadata": {
    "id": "c500e2d8"
   },
   "source": [
    "This error message takes some explaining.\n",
    "An **attribute** of an object is a variable or method associated with it.\n",
    "In this case, the value of `t` is `None`, which is a `NoneType` object, which does not have a attribute named `remove`, so the result is an `AttributeError`.\n",
    "\n",
    "If you see an error message like this, you should look backward through the program and see if you might have called a list method incorrectly."
   ]
  },
  {
   "cell_type": "markdown",
   "id": "f90db780",
   "metadata": {
    "id": "f90db780"
   },
   "source": [
    "## Glossary\n",
    "\n",
    "**list:**\n",
    " An object that contains a sequence of values.\n",
    "\n",
    "**element:**\n",
    " One of the values in a list or other sequence.\n",
    "\n",
    "**nested list:**\n",
    "A list that is an element of another list.\n",
    "\n",
    "**delimiter:**\n",
    " A character or string used to indicate where a string should be split.\n",
    "\n",
    "**equivalent:**\n",
    " Having the same value.\n",
    "\n",
    "**identical:**\n",
    " Being the same object (which implies equivalence).\n",
    "\n",
    "**reference:**\n",
    " The association between a variable and its value.\n",
    "\n",
    "**aliased:**\n",
    "If there is more than one variable that refers to an object, the object is aliased.\n",
    "\n",
    "**attribute:**\n",
    " One of the named values associated with an object."
   ]
  },
  {
   "cell_type": "markdown",
   "id": "e67864e5",
   "metadata": {
    "id": "e67864e5"
   },
   "source": [
    "## Exercises\n",
    "\n"
   ]
  },
  {
   "cell_type": "code",
   "execution_count": null,
   "id": "a4e34564",
   "metadata": {
    "id": "a4e34564",
    "tags": []
   },
   "outputs": [],
   "source": [
    "# This cell tells Jupyter to provide detailed debugging information\n",
    "# when a runtime error occurs. Run it before working on the exercises.\n",
    "\n",
    "%xmode Verbose"
   ]
  },
  {
   "cell_type": "markdown",
   "id": "ae9c42da",
   "metadata": {
    "id": "ae9c42da"
   },
   "source": [
    "### Ask a virtual assistant\n",
    "\n",
    "In this chapter, I used the words \"contrafibularities\" and \"anaspeptic\", but they are not actually English words.\n",
    "They were used in the British television show *Black Adder*, Season 3, Episode 2, \"Ink and Incapability\".\n",
    "\n",
    "However, when I asked ChatGPT 3.5 (August 3, 2023 version) where those words came from, it initially claimed they are from Monty Python, and later claimed they are from the Tom Stoppard play *Rosencrantz and Guildenstern Are Dead*.\n",
    "\n",
    "If you ask now, you might get different results.\n",
    "But this example is a reminder that virtual assistants are not always accurate, so you should check whether the results are correct.\n",
    "As you gain experience, you will get a sense of which questions virtual assistants can answer reliably.\n",
    "In this example, a conventional web search can identify the source of these words quickly.\n",
    "\n",
    "If you get stuck on any of the exercises in this chapter, consider asking a virtual assistant for help.\n",
    "If you get a result that uses features we haven't learned yet, you can assign the VA a \"role\".\n",
    "\n",
    "For example, before you ask a question try typing \"Role: Basic Python Programming Instructor\".\n",
    "After that, the responses you get should use only basic features.\n",
    "If you still see features we you haven't learned, you can follow up with \"Can you write that using only basic Python features?\""
   ]
  },
  {
   "cell_type": "markdown",
   "id": "31d5b304",
   "metadata": {
    "id": "31d5b304"
   },
   "source": [
    "### Exercise\n",
    "\n",
    "Two words are anagrams if you can rearrange the letters from one to spell the other.\n",
    "For example, `tops` is an anagram of `stop`.\n",
    "\n",
    "One way to check whether two words are anagrams is to sort the letters in both words.\n",
    "If the lists of sorted letters are the same, the words are anagrams.\n",
    "\n",
    "Write a function called `is_anagram` that takes two strings and returns `True` if they are anagrams."
   ]
  },
  {
   "cell_type": "markdown",
   "id": "a882bfeb",
   "metadata": {
    "id": "a882bfeb",
    "tags": []
   },
   "source": [
    "To get you started, here's an outline of the function with doctests."
   ]
  },
  {
   "cell_type": "code",
   "execution_count": 102,
   "id": "9c5916ed",
   "metadata": {
    "id": "9c5916ed",
    "tags": []
   },
   "outputs": [],
   "source": [
    "def is_anagram(word1, word2):\n",
    "    \"\"\"Checks whether two words are anagrams.\n",
    "\n",
    "    >>> is_anagram('tops', 'stop')\n",
    "    True\n",
    "    >>> is_anagram('skate', 'takes')\n",
    "    True\n",
    "    >>> is_anagram('tops', 'takes')\n",
    "    False\n",
    "    >>> is_anagram('skate', 'stop')\n",
    "    False\n",
    "    \"\"\"\n",
    "    if sorted(word1) == sorted(word2):\n",
    "        return True\n",
    "    else:\n",
    "        return False"
   ]
  },
  {
   "cell_type": "code",
   "execution_count": null,
   "id": "5885cbd3",
   "metadata": {
    "id": "5885cbd3"
   },
   "outputs": [],
   "source": [
    "# Solution goes here"
   ]
  },
  {
   "cell_type": "markdown",
   "id": "a86e7403",
   "metadata": {
    "id": "a86e7403",
    "tags": []
   },
   "source": [
    "You can use `doctest` to test your function."
   ]
  },
  {
   "cell_type": "code",
   "execution_count": 103,
   "id": "ce7a96ec",
   "metadata": {
    "id": "ce7a96ec",
    "tags": []
   },
   "outputs": [],
   "source": [
    "from doctest import run_docstring_examples\n",
    "\n",
    "def run_doctests(func):\n",
    "    run_docstring_examples(func, globals(), name=func.__name__)\n",
    "\n",
    "run_doctests(is_anagram)"
   ]
  },
  {
   "cell_type": "markdown",
   "id": "8501f3ba",
   "metadata": {
    "id": "8501f3ba"
   },
   "source": [
    "Using your function and the word list, find all the anagrams of `takes`."
   ]
  },
  {
   "cell_type": "code",
   "execution_count": 123,
   "id": "75e17c7b",
   "metadata": {
    "id": "75e17c7b"
   },
   "outputs": [
    {
     "name": "stdout",
     "output_type": "stream",
     "text": [
      "skate\n",
      "stake\n",
      "steak\n",
      "takes\n",
      "teaks\n"
     ]
    }
   ],
   "source": [
    "# Solution goes here\n",
    "for word in word_list:\n",
    "    if is_anagram('takes', word):\n",
    "        print(word)"
   ]
  },
  {
   "cell_type": "code",
   "execution_count": 124,
   "id": "f3649002",
   "metadata": {},
   "outputs": [
    {
     "name": "stdout",
     "output_type": "stream",
     "text": [
      "['skate', 'stake', 'steak', 'takes', 'teaks']\n"
     ]
    }
   ],
   "source": [
    "print([w for w in word_list if is_anagram(\"takes\", w)])"
   ]
  },
  {
   "cell_type": "markdown",
   "id": "7f279f2f",
   "metadata": {
    "id": "7f279f2f"
   },
   "source": [
    "### Exercise\n",
    "\n",
    "Python provides a built-in function called `reversed` that takes as an argument a sequence of elements -- like a list or string -- and returns a `reversed` object that contains the elements in reverse order."
   ]
  },
  {
   "cell_type": "code",
   "execution_count": 125,
   "id": "aafa5db5",
   "metadata": {
    "id": "aafa5db5"
   },
   "outputs": [
    {
     "data": {
      "text/plain": [
       "<reversed at 0x7efeb3a6c460>"
      ]
     },
     "execution_count": 125,
     "metadata": {},
     "output_type": "execute_result"
    }
   ],
   "source": [
    "reversed('parrot')"
   ]
  },
  {
   "cell_type": "markdown",
   "id": "0f95c76f",
   "metadata": {
    "id": "0f95c76f"
   },
   "source": [
    "If you want the reversed elements in a list, you can use the `list` function."
   ]
  },
  {
   "cell_type": "code",
   "execution_count": 126,
   "id": "06cbb42a",
   "metadata": {
    "id": "06cbb42a"
   },
   "outputs": [
    {
     "data": {
      "text/plain": [
       "['t', 'o', 'r', 'r', 'a', 'p']"
      ]
     },
     "execution_count": 126,
     "metadata": {},
     "output_type": "execute_result"
    }
   ],
   "source": [
    "list(reversed('parrot'))"
   ]
  },
  {
   "cell_type": "markdown",
   "id": "8fc79a2f",
   "metadata": {
    "id": "8fc79a2f"
   },
   "source": [
    "Or if you want them in a string, you can use the `join` method."
   ]
  },
  {
   "cell_type": "code",
   "execution_count": 127,
   "id": "18a73205",
   "metadata": {
    "id": "18a73205"
   },
   "outputs": [
    {
     "data": {
      "text/plain": [
       "'torrap'"
      ]
     },
     "execution_count": 127,
     "metadata": {},
     "output_type": "execute_result"
    }
   ],
   "source": [
    "''.join(reversed('parrot'))"
   ]
  },
  {
   "cell_type": "markdown",
   "id": "ec4ce196",
   "metadata": {
    "id": "ec4ce196"
   },
   "source": [
    "So we can write a function that reverses a word like this."
   ]
  },
  {
   "cell_type": "code",
   "execution_count": 130,
   "id": "408932cb",
   "metadata": {
    "id": "408932cb"
   },
   "outputs": [],
   "source": [
    "def reverse_word(word):\n",
    "    return ''.join(reversed(word))"
   ]
  },
  {
   "cell_type": "markdown",
   "id": "21550b5f",
   "metadata": {
    "id": "21550b5f"
   },
   "source": [
    "A palindrome is a word that is spelled the same backward and forward, like \"noon\" and \"rotator\".\n",
    "Write a function called `is_palindrome` that takes a string argument and returns `True` if it is a palindrome and `False` otherwise."
   ]
  },
  {
   "cell_type": "markdown",
   "id": "3748b4e0",
   "metadata": {
    "id": "3748b4e0",
    "tags": []
   },
   "source": [
    "Here's an outline of the function with doctests you can use to check your function."
   ]
  },
  {
   "cell_type": "code",
   "execution_count": 131,
   "id": "9179d51c",
   "metadata": {
    "id": "9179d51c",
    "tags": []
   },
   "outputs": [],
   "source": [
    "def is_palindrome(word):\n",
    "    \"\"\"Check if a word is a palindrome.\n",
    "\n",
    "    >>> is_palindrome('bob')\n",
    "    True\n",
    "    >>> is_palindrome('alice')\n",
    "    False\n",
    "    >>> is_palindrome('a')\n",
    "    True\n",
    "    >>> is_palindrome('')\n",
    "    True\n",
    "    \"\"\"\n",
    "    return word == reverse_word(word)"
   ]
  },
  {
   "cell_type": "code",
   "execution_count": null,
   "id": "16d493ad",
   "metadata": {
    "id": "16d493ad"
   },
   "outputs": [],
   "source": [
    "# Solution goes here"
   ]
  },
  {
   "cell_type": "code",
   "execution_count": 132,
   "id": "33c9b4ec",
   "metadata": {
    "id": "33c9b4ec",
    "tags": []
   },
   "outputs": [],
   "source": [
    "run_doctests(is_palindrome)"
   ]
  },
  {
   "cell_type": "markdown",
   "id": "ad857abf",
   "metadata": {
    "id": "ad857abf"
   },
   "source": [
    "You can use the following loop to find all of the palindromes in the word list with at least 7 letters."
   ]
  },
  {
   "cell_type": "code",
   "execution_count": 133,
   "id": "fea01394",
   "metadata": {
    "id": "fea01394",
    "tags": []
   },
   "outputs": [
    {
     "name": "stdout",
     "output_type": "stream",
     "text": [
      "deified\n",
      "halalah\n",
      "reifier\n",
      "repaper\n",
      "reviver\n",
      "rotator\n",
      "sememes\n"
     ]
    }
   ],
   "source": [
    "for word in word_list:\n",
    "    if len(word) >= 7 and is_palindrome(word):\n",
    "        print(word)"
   ]
  },
  {
   "cell_type": "markdown",
   "id": "11386f70",
   "metadata": {
    "id": "11386f70"
   },
   "source": [
    "### Exercise\n",
    "\n",
    "Write a function called `reverse_sentence` that takes as an argument a string that contains any number of words separated by spaces.\n",
    "It should return a new string that contains the same words in reverse order.\n",
    "For example, if the argument is \"Reverse this sentence\", the result should be \"Sentence this reverse\".\n",
    "\n",
    "Hint: You can use the `capitalize` methods to capitalize the first word and convert the other words to lowercase."
   ]
  },
  {
   "cell_type": "markdown",
   "id": "13882893",
   "metadata": {
    "id": "13882893",
    "tags": []
   },
   "source": [
    "To get you started, here's an outline of the function with doctests."
   ]
  },
  {
   "cell_type": "code",
   "execution_count": 136,
   "id": "d9b5b362",
   "metadata": {
    "id": "d9b5b362",
    "tags": []
   },
   "outputs": [],
   "source": [
    "def reverse_sentence(input_string):\n",
    "    '''Reverse the words in a string and capitalize the first.\n",
    "\n",
    "    >>> reverse_sentence('Reverse this sentence.')\n",
    "    'Sentence this reverse.'\n",
    "\n",
    "    >>> reverse_sentence('Python?')\n",
    "    'Python'\n",
    "\n",
    "    >>> reverse_sentence('')\n",
    "    ''\n",
    "\n",
    "    >>> reverse_sentence('One for all and all for one!')\n",
    "    'One for all and all for one!'\n",
    "    '''\n",
    "    return \" \".join(reversed(input_string[:-1].split())).lower().capitalize() + input_string[-1]"
   ]
  },
  {
   "cell_type": "code",
   "execution_count": 137,
   "id": "a2cb1451",
   "metadata": {
    "id": "a2cb1451"
   },
   "outputs": [
    {
     "data": {
      "text/plain": [
       "'String this reverse!'"
      ]
     },
     "execution_count": 137,
     "metadata": {},
     "output_type": "execute_result"
    }
   ],
   "source": [
    "# Solution goes here\n",
    "reverse_sentence(\"Reverse this string!\")"
   ]
  },
  {
   "cell_type": "code",
   "execution_count": null,
   "id": "769d1c7a",
   "metadata": {
    "id": "769d1c7a",
    "tags": []
   },
   "outputs": [],
   "source": [
    "run_doctests(reverse_sentence)"
   ]
  },
  {
   "cell_type": "markdown",
   "id": "fb5f24b1",
   "metadata": {
    "id": "fb5f24b1"
   },
   "source": [
    "### Exercise\n",
    "\n",
    "Write a function called `total_length` that takes a list of strings and returns the total length of the strings.\n",
    "The total length of the words in `word_list` should be $902{,}728$."
   ]
  },
  {
   "cell_type": "code",
   "execution_count": null,
   "id": "1fba5377",
   "metadata": {
    "id": "1fba5377"
   },
   "outputs": [],
   "source": [
    "# Solution goes here"
   ]
  },
  {
   "cell_type": "code",
   "execution_count": 139,
   "id": "21f4cf1c",
   "metadata": {
    "id": "21f4cf1c"
   },
   "outputs": [
    {
     "data": {
      "text/plain": [
       "902728"
      ]
     },
     "execution_count": 139,
     "metadata": {},
     "output_type": "execute_result"
    }
   ],
   "source": [
    "total_length(word_list)"
   ]
  },
  {
   "cell_type": "code",
   "execution_count": 138,
   "id": "c3efb216",
   "metadata": {
    "id": "c3efb216"
   },
   "outputs": [],
   "source": [
    "def total_length(word_list):\n",
    "    return sum(len(word) for word in word_list)"
   ]
  },
  {
   "cell_type": "markdown",
   "id": "a7f4edf8",
   "metadata": {
    "id": "a7f4edf8",
    "tags": []
   },
   "source": [
    "[Think Python: 3rd Edition](https://allendowney.github.io/ThinkPython/index.html)\n",
    "\n",
    "Copyright 2024 [Allen B. Downey](https://allendowney.com)\n",
    "\n",
    "Code license: [MIT License](https://mit-license.org/)\n",
    "\n",
    "Text license: [Creative Commons Attribution-NonCommercial-ShareAlike 4.0 International](https://creativecommons.org/licenses/by-nc-sa/4.0/)"
   ]
  }
 ],
 "metadata": {
  "celltoolbar": "Tags",
  "colab": {
   "provenance": []
  },
  "kernelspec": {
   "display_name": "Python 3",
   "language": "python",
   "name": "python3"
  },
  "language_info": {
   "codemirror_mode": {
    "name": "ipython",
    "version": 3
   },
   "file_extension": ".py",
   "mimetype": "text/x-python",
   "name": "python",
   "nbconvert_exporter": "python",
   "pygments_lexer": "ipython3",
   "version": "3.12.1"
  }
 },
 "nbformat": 4,
 "nbformat_minor": 5
}
