{
 "cells": [
  {
   "cell_type": "code",
   "execution_count": 3,
   "id": "0311365a",
   "metadata": {},
   "outputs": [],
   "source": [
    "words = ['hello', 'goodbye', 'desk', 'chair', 'window', 'notebook']"
   ]
  },
  {
   "cell_type": "code",
   "execution_count": 2,
   "id": "d207ed9e",
   "metadata": {},
   "outputs": [
    {
     "name": "stdout",
     "output_type": "stream",
     "text": [
      "['hello', 'goodbye', 'desk', 'chair', 'window', 'notebook']\n"
     ]
    }
   ],
   "source": [
    "print(words)"
   ]
  },
  {
   "cell_type": "code",
   "execution_count": 4,
   "id": "e00d3d1d",
   "metadata": {},
   "outputs": [],
   "source": [
    "x = {word: len(word) for word in words}"
   ]
  },
  {
   "cell_type": "code",
   "execution_count": 6,
   "id": "0d83dbe7",
   "metadata": {},
   "outputs": [
    {
     "name": "stdout",
     "output_type": "stream",
     "text": [
      "The word 'hello' has 5 characters.\n",
      "The word 'goodbye' has 7 characters.\n",
      "The word 'desk' has 4 characters.\n",
      "The word 'chair' has 5 characters.\n",
      "The word 'window' has 6 characters.\n",
      "The word 'notebook' has 8 characters.\n"
     ]
    }
   ],
   "source": [
    "for word, length in x.items():\n",
    "    print(f\"The word '{word}' has {length} characters.\")"
   ]
  },
  {
   "cell_type": "code",
   "execution_count": null,
   "id": "f80bcc28",
   "metadata": {},
   "outputs": [],
   "source": []
  }
 ],
 "metadata": {
  "kernelspec": {
   "display_name": "Python 3",
   "language": "python",
   "name": "python3"
  },
  "language_info": {
   "codemirror_mode": {
    "name": "ipython",
    "version": 3
   },
   "file_extension": ".py",
   "mimetype": "text/x-python",
   "name": "python",
   "nbconvert_exporter": "python",
   "pygments_lexer": "ipython3",
   "version": "3.12.1"
  }
 },
 "nbformat": 4,
 "nbformat_minor": 5
}
